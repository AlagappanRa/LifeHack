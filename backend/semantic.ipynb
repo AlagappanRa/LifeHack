{
 "cells": [
  {
   "cell_type": "code",
   "execution_count": 18,
   "metadata": {},
   "outputs": [
    {
     "name": "stderr",
     "output_type": "stream",
     "text": [
      "c:\\Users\\Rithik Vijay\\Documents\\GitHub\\LifeHack\\venv\\lib\\site-packages\\huggingface_hub\\file_download.py:1132: FutureWarning: `resume_download` is deprecated and will be removed in version 1.0.0. Downloads always resume when possible. If you want to force a new download, use `force_download=True`.\n",
      "  warnings.warn(\n",
      "No model was supplied, defaulted to distilbert/distilbert-base-cased-distilled-squad and revision 626af31 (https://huggingface.co/distilbert/distilbert-base-cased-distilled-squad).\n",
      "Using a pipeline without specifying a model name and revision in production is not recommended.\n"
     ]
    },
    {
     "name": "stdout",
     "output_type": "stream",
     "text": [
      "Question: What is the name of the prisoner who escaped from wandsworth prison?\n",
      "Answer: Daniel Abed Khalife\n"
     ]
    }
   ],
   "source": [
    "from sentence_transformers import SentenceTransformer\n",
    "import faiss\n",
    "import numpy as np\n",
    "import pandas as pd\n",
    "from transformers import pipeline\n",
    "\n",
    "# Load the pre-trained models\n",
    "semantic_model = SentenceTransformer('all-MiniLM-L6-v2')\n",
    "qa_pipeline = pipeline(\"question-answering\")\n",
    "\n",
    "# Load the Faiss index and data\n",
    "index = faiss.read_index(\"../faiss_index.bin\")\n",
    "df = pd.read_pickle(\"../data_with_embeddings.pkl\")\n",
    "\n",
    "# Function to perform semantic search\n",
    "def semantic_search(query, top_k=1):\n",
    "    query_embedding = semantic_model.encode([query])\n",
    "    distances, indices = index.search(np.array(query_embedding), top_k)\n",
    "    results = df.iloc[indices[0]]\n",
    "    return results\n",
    "\n",
    "# Function to generate an answer based on context\n",
    "def generate_answer(question, context):\n",
    "    response = qa_pipeline(question=question, context=context)\n",
    "    return response['answer']\n",
    "\n",
    "# Complete chatbot function\n",
    "def chatbot(question, top_k=3):\n",
    "    # Perform semantic search to get the most relevant text segments\n",
    "    results = semantic_search(question, top_k=top_k)\n",
    "    \n",
    "    # Combine the retrieved text into a single context\n",
    "    context = \" \".join(results['cleaned_text'].tolist())\n",
    "    \n",
    "    # Generate the answer using the QA model\n",
    "    answer = generate_answer(question, context)\n",
    "    \n",
    "    return answer\n",
    "\n",
    "# Example question\n",
    "question = \"What is the name of the prisoner who escaped from wandsworth prison?\"\n",
    "\n",
    "# Get the answer\n",
    "answer = chatbot(question)\n",
    "print(f\"Question: {question}\\nAnswer: {answer}\")\n"
   ]
  }
 ],
 "metadata": {
  "kernelspec": {
   "display_name": "venv",
   "language": "python",
   "name": "python3"
  },
  "language_info": {
   "codemirror_mode": {
    "name": "ipython",
    "version": 3
   },
   "file_extension": ".py",
   "mimetype": "text/x-python",
   "name": "python",
   "nbconvert_exporter": "python",
   "pygments_lexer": "ipython3",
   "version": "3.10.0"
  }
 },
 "nbformat": 4,
 "nbformat_minor": 2
}
