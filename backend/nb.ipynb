{
 "cells": [
  {
   "metadata": {
    "ExecuteTime": {
     "end_time": "2024-05-31T13:54:47.970191Z",
     "start_time": "2024-05-31T13:54:39.057186Z"
    }
   },
   "cell_type": "code",
   "source": [
    "import pandas as pd\n",
    "\n",
    "with open(\"cleaned.pkl\", \"rb\") as f:\n",
    "    df = pd.read_pickle(f)"
   ],
   "id": "73aa2943f081aef1",
   "outputs": [],
   "execution_count": 11
  },
  {
   "metadata": {
    "ExecuteTime": {
     "end_time": "2024-05-31T13:55:02.426081Z",
     "start_time": "2024-05-31T13:55:02.349051Z"
    }
   },
   "cell_type": "code",
   "source": "df.head()",
   "id": "3e90dd02451fc37c",
   "outputs": [
    {
     "data": {
      "text/plain": [
       "                                                text  \\\n",
       "0  Prisoners escaping is rare. Escapes from priso...   \n",
       "1  Part of HuffPost World News. ©2024 BuzzFeed, I...   \n",
       "2  The first bombing occurred on March 2 and kill...   \n",
       "3  Trump’s latest outburst about North Korea’s nu...   \n",
       "4  Part of HuffPost News. ©2024 BuzzFeed, Inc. Al...   \n",
       "\n",
       "                                        cleaned_text  \\\n",
       "0  Prisoners escaping is rare. Escapes from priso...   \n",
       "1  Part of HuffPost World News. 2024 BuzzFeed, In...   \n",
       "2  The first bombing occurred on March 2 and kill...   \n",
       "3  Trumps latest outburst about North Koreas nuke...   \n",
       "4  Part of HuffPost News. 2024 BuzzFeed, Inc. All...   \n",
       "\n",
       "                                             spacied  \\\n",
       "0  (Prisoners, escaping, is, rare, ., Escapes, fr...   \n",
       "1  (Part, of, HuffPost, World, News, ., 2024, Buz...   \n",
       "2  (The, first, bombing, occurred, on, March, 2, ...   \n",
       "3  (Trumps, latest, outburst, about, North, Korea...   \n",
       "4  (Part, of, HuffPost, News, ., 2024, BuzzFeed, ...   \n",
       "\n",
       "                                            entities  \n",
       "0  [(wandsworth prison, PERSON), (the prison and ...  \n",
       "1  [(2024, DATE), (cairo, ORG), (nov 24, DATE), (...  \n",
       "2  [(first, ORDINAL), (march 2, DATE), (anthony s...  \n",
       "3  [(trump, PERSON), (north koreas, GPE), (armage...  \n",
       "4  [(huffpost news, ORG), (2024, DATE), (aleppo b...  "
      ],
      "text/html": [
       "<div>\n",
       "<style scoped>\n",
       "    .dataframe tbody tr th:only-of-type {\n",
       "        vertical-align: middle;\n",
       "    }\n",
       "\n",
       "    .dataframe tbody tr th {\n",
       "        vertical-align: top;\n",
       "    }\n",
       "\n",
       "    .dataframe thead th {\n",
       "        text-align: right;\n",
       "    }\n",
       "</style>\n",
       "<table border=\"1\" class=\"dataframe\">\n",
       "  <thead>\n",
       "    <tr style=\"text-align: right;\">\n",
       "      <th></th>\n",
       "      <th>text</th>\n",
       "      <th>cleaned_text</th>\n",
       "      <th>spacied</th>\n",
       "      <th>entities</th>\n",
       "    </tr>\n",
       "  </thead>\n",
       "  <tbody>\n",
       "    <tr>\n",
       "      <th>0</th>\n",
       "      <td>Prisoners escaping is rare. Escapes from priso...</td>\n",
       "      <td>Prisoners escaping is rare. Escapes from priso...</td>\n",
       "      <td>(Prisoners, escaping, is, rare, ., Escapes, fr...</td>\n",
       "      <td>[(wandsworth prison, PERSON), (the prison and ...</td>\n",
       "    </tr>\n",
       "    <tr>\n",
       "      <th>1</th>\n",
       "      <td>Part of HuffPost World News. ©2024 BuzzFeed, I...</td>\n",
       "      <td>Part of HuffPost World News. 2024 BuzzFeed, In...</td>\n",
       "      <td>(Part, of, HuffPost, World, News, ., 2024, Buz...</td>\n",
       "      <td>[(2024, DATE), (cairo, ORG), (nov 24, DATE), (...</td>\n",
       "    </tr>\n",
       "    <tr>\n",
       "      <th>2</th>\n",
       "      <td>The first bombing occurred on March 2 and kill...</td>\n",
       "      <td>The first bombing occurred on March 2 and kill...</td>\n",
       "      <td>(The, first, bombing, occurred, on, March, 2, ...</td>\n",
       "      <td>[(first, ORDINAL), (march 2, DATE), (anthony s...</td>\n",
       "    </tr>\n",
       "    <tr>\n",
       "      <th>3</th>\n",
       "      <td>Trump’s latest outburst about North Korea’s nu...</td>\n",
       "      <td>Trumps latest outburst about North Koreas nuke...</td>\n",
       "      <td>(Trumps, latest, outburst, about, North, Korea...</td>\n",
       "      <td>[(trump, PERSON), (north koreas, GPE), (armage...</td>\n",
       "    </tr>\n",
       "    <tr>\n",
       "      <th>4</th>\n",
       "      <td>Part of HuffPost News. ©2024 BuzzFeed, Inc. Al...</td>\n",
       "      <td>Part of HuffPost News. 2024 BuzzFeed, Inc. All...</td>\n",
       "      <td>(Part, of, HuffPost, News, ., 2024, BuzzFeed, ...</td>\n",
       "      <td>[(huffpost news, ORG), (2024, DATE), (aleppo b...</td>\n",
       "    </tr>\n",
       "  </tbody>\n",
       "</table>\n",
       "</div>"
      ]
     },
     "execution_count": 12,
     "metadata": {},
     "output_type": "execute_result"
    }
   ],
   "execution_count": 12
  },
  {
   "metadata": {
    "ExecuteTime": {
     "end_time": "2024-05-31T14:57:09.916609Z",
     "start_time": "2024-05-31T14:57:09.907954Z"
    }
   },
   "cell_type": "code",
   "source": [
    "import networkx as nx\n",
    "\n",
    "G = nx.Graph()"
   ],
   "id": "cabcb4df6c544ef0",
   "outputs": [],
   "execution_count": 59
  },
  {
   "metadata": {
    "ExecuteTime": {
     "end_time": "2024-05-31T14:57:11.005629Z",
     "start_time": "2024-05-31T14:57:10.775731Z"
    }
   },
   "cell_type": "code",
   "source": [
    "for idx, entry in df[\"entities\"].items():\n",
    "    G.add_node(idx, bipartite=0)\n",
    "\n",
    "    for ent_text, ent_type in set(entry):\n",
    "        if ent_text not in G:\n",
    "            G.add_node(ent_text, bipartite=1)\n",
    "        if not G.has_edge(idx, ent_text):\n",
    "            G.add_edge(idx, ent_text)"
   ],
   "id": "11f1c7bb0b93c685",
   "outputs": [],
   "execution_count": 60
  },
  {
   "metadata": {
    "ExecuteTime": {
     "end_time": "2024-05-31T15:19:07.074405Z",
     "start_time": "2024-05-31T15:19:04.847963Z"
    }
   },
   "cell_type": "code",
   "source": [
    "\n",
    "from collections import defaultdict\n",
    "\n",
    "n = len(df)\n",
    "\n",
    "Matrix = defaultdict[int, defaultdict[int, int]]\n",
    "                 \n",
    "matrix: Matrix  = defaultdict(lambda: defaultdict(int))\n",
    "\n",
    "two_hop_connections = nx.all_pairs_shortest_path_length(G, cutoff=2)\n",
    "\n",
    "for i, j in two_hop_connections:\n",
    "    if isinstance(i, int):\n",
    "        for num, dist in j.items():\n",
    "            if dist == 2:\n",
    "                matrix[i][num] += 1"
   ],
   "id": "507a1f6200437216",
   "outputs": [],
   "execution_count": 114
  },
  {
   "metadata": {
    "ExecuteTime": {
     "end_time": "2024-05-31T15:19:07.447701Z",
     "start_time": "2024-05-31T15:19:07.441720Z"
    }
   },
   "cell_type": "code",
   "source": [
    "def find_max_pair(data: Matrix):\n",
    "    max_value = float('-inf')\n",
    "    max_pair = (None, None)\n",
    "    \n",
    "    for a_key, inner_dict in data.items():\n",
    "        for b_key, value in inner_dict.items():\n",
    "            if value > max_value:\n",
    "                max_value = value\n",
    "                max_pair = (a_key, b_key)\n",
    "    \n",
    "    return max_pair, max_value"
   ],
   "id": "32844bc7a7bd404a",
   "outputs": [],
   "execution_count": 115
  },
  {
   "metadata": {
    "ExecuteTime": {
     "end_time": "2024-05-31T15:19:13.920263Z",
     "start_time": "2024-05-31T15:19:13.836280Z"
    }
   },
   "cell_type": "code",
   "source": "find_max_pair(matrix)",
   "id": "7dab6c5d31d80247",
   "outputs": [
    {
     "data": {
      "text/plain": [
       "((0, 264), 1)"
      ]
     },
     "execution_count": 116,
     "metadata": {},
     "output_type": "execute_result"
    }
   ],
   "execution_count": 116
  },
  {
   "metadata": {
    "ExecuteTime": {
     "end_time": "2024-05-31T15:19:14.891379Z",
     "start_time": "2024-05-31T15:19:14.786491Z"
    }
   },
   "cell_type": "code",
   "source": [
    "import pickle\n",
    "\n",
    "with open(\"knowledge_graph.gpickle\", \"wb\") as f:\n",
    "    pickle.dump(G, f)"
   ],
   "id": "5d3401f499ab0d9c",
   "outputs": [],
   "execution_count": 117
  }
 ],
 "metadata": {
  "kernelspec": {
   "display_name": "Python 3",
   "language": "python",
   "name": "python3"
  },
  "language_info": {
   "codemirror_mode": {
    "name": "ipython",
    "version": 2
   },
   "file_extension": ".py",
   "mimetype": "text/x-python",
   "name": "python",
   "nbconvert_exporter": "python",
   "pygments_lexer": "ipython2",
   "version": "2.7.6"
  }
 },
 "nbformat": 4,
 "nbformat_minor": 5
}
